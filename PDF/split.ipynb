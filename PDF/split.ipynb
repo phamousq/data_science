{
 "cells": [
  {
   "cell_type": "code",
   "execution_count": 29,
   "metadata": {},
   "outputs": [],
   "source": [
    "from pypdf import PdfReader\n",
    "from pypdf.generic import Destination\n",
    "# from tkinter.filedialog import askopenfilename\n",
    "import pymupdf \n",
    "import re"
   ]
  },
  {
   "cell_type": "code",
   "execution_count": 15,
   "metadata": {},
   "outputs": [],
   "source": [
    "filename = \"/Users/qpair/Library/CloudStorage/Box-Box/Q's Cloud/Dell Med/MS3/CID/Biodesign Textbook - Yock.PDF\""
   ]
  },
  {
   "cell_type": "code",
   "execution_count": 13,
   "metadata": {},
   "outputs": [],
   "source": [
    "src = pymupdf.open(filename)\n",
    "for page in src:\n",
    "    tar = pymupdf.open()  # output PDF for 1 page\n",
    "    # copy over current page\n",
    "    tar.insert_pdf(src, from_page=page.number, to_page=page.number)\n",
    "    tar.save(f\"page-{page.number}.pdf\")\n",
    "    tar.close()"
   ]
  },
  {
   "cell_type": "code",
   "execution_count": 25,
   "metadata": {},
   "outputs": [
    {
     "name": "stdout",
     "output_type": "stream",
     "text": [
      "[[3, '1.1 Strategic Focus', 66], [3, '1.2 Needs Exploration', 83], [3, '1.3 Need Statement Development', 106], [5, '1.1 Strategic Focus', 121], [5, '1.2 Needs Exploration', 124], [5, '1.3 Need Statement Development', 125], [3, '2.1 Disease State Fundamentals', 130], [3, '2.2 Existing Solutions', 149], [3, '2.3 Stakeholder Analysis', 168], [3, '2.4 Market Analysis', 198], [3, '2.5 Needs Selection', 231], [4, '2.1 Disease State Fundamentals', 255], [4, '2.2 Existing Solutions', 256], [4, '2.3 Stakeholder Analysis', 258], [4, '2.4 Market Analysis', 259], [4, '2.5 Needs Selection', 260], [3, '3.1 Ideation', 266], [3, '3.2 Initial Concept Selection', 284], [4, '3.1 Ideation', 296], [4, '3.2 Initial Concept Selection', 296], [3, '4.1 Intellectual Property Basics', 302], [3, '4.2 Regulatory Basics', 335], [3, '4.3 Reimbursement Basics', 366], [3, '4.4 Business Models', 389], [3, '4.5 Concept Exploration and Testing', 420], [3, '4.6 Final Concept Selection', 448], [4, '4.1 Intellectual Property Basics', 465], [4, '4.2 Regulatory Basics', 467], [4, '4.3 Reimbursement Basics', 467], [4, '4.4 Business Models', 468], [4, '4.5 Concept Exploration and Testing', 469], [4, '4.6 Final Concept Selection', 470], [3, '5.1 IP Strategy', 474], [3, '5.2 RandD Strategy', 494], [3, '5.3 Clinical Strategy', 519], [3, '5.4 Regulatory Strategy', 550], [3, '5.5 Quality Management', 567], [3, '5.6 Reimbursement Strategy', 589], [3, '5.7 Marketing and Stakeholder Strategy', 620], [3, '5.8 Sales and Distribution Strategy', 651], [3, '5.9 Competitive Advantage and Business Strategy', 679], [4, '5.1 IP Strategy', 702], [4, '5.2 RandD Strategy', 702], [4, '5.3 Clinical Strategy', 704], [4, '5.4 Regulatory Strategy', 706], [4, '5.5 Quality Management', 707], [4, '5.6 Reimbursement Strategy', 708], [4, '5.7 Marketing and Stakeholder Strategy', 708], [4, '5.8 Sales and Distribution Strategy', 711], [4, '5.9 Competitive Advantage and Business Strategy', 712], [3, '6.1 Operating Plan and Financial Model', 718], [3, '6.2 Strategy Integration and Communication', 741], [3, '6.3 Funding Approaches', 764], [3, '6.4 Alternate Pathways', 802], [4, '6.1 Operating Plan and Financial Model', 825], [4, '6.2 Strategy Integration and Communication', 826], [4, '6.3 Funding Approaches', 826]]\n"
     ]
    }
   ],
   "source": [
    "src = pymupdf.open(filename)\n",
    "toc = src.get_toc()\n",
    "chapters = []\n",
    "for x in toc:\n",
    "    if re.match(r\"^\\d\\.\\d\", x[1]):\n",
    "        chapters.append(x)\n",
    "\n",
    "# Chapters disign is [[id, text of outline, page number]]\n",
    "# print(chapters)"
   ]
  },
  {
   "cell_type": "code",
   "execution_count": 51,
   "metadata": {},
   "outputs": [],
   "source": [
    "# parse through chapters\n",
    "for x in range(len(chapters)-1):\n",
    "    # get first chapter start page\n",
    "    # get last chapter end page\n",
    "    start = 0\n",
    "    if start == 0:\n",
    "        start = int(chapters[x][2])\n",
    "    # if first char chapter not same, update end\n",
    "    if int(chapters[x][1][0]) != int(chapters[x+1][1][0]):\n",
    "        end = int(chapters[x+1][2]) - 2\n",
    "    else:\n",
    "        start = 0\n",
    "        continue\n",
    "    \n",
    "    tar = pymupdf.open()  # output PDF for 1 page\n",
    "    # copy over current page\n",
    "    tar.insert_pdf(src, from_page=start, to_page=end)\n",
    "    tar.save(f\"chapter {chapters[x][1][0]}.pdf\")\n",
    "    tar.close()\n",
    "# export chapter\n",
    "# next chapter "
   ]
  },
  {
   "cell_type": "code",
   "execution_count": 42,
   "metadata": {},
   "outputs": [],
   "source": [
    "src = pymupdf.open(filename)\n",
    "tar = pymupdf.open()  # output PDF for 1 page\n",
    "# copy over current page\n",
    "tar.insert_pdf(src, from_page=chapters[0][2], to_page=int(chapters[1][2])-2)\n",
    "tar.save(f\"chapter {chapters[x][1][0]}.pdf\")\n",
    "tar.close()"
   ]
  },
  {
   "cell_type": "code",
   "execution_count": null,
   "metadata": {},
   "outputs": [],
   "source": []
  }
 ],
 "metadata": {
  "kernelspec": {
   "display_name": ".venv",
   "language": "python",
   "name": "python3"
  },
  "language_info": {
   "codemirror_mode": {
    "name": "ipython",
    "version": 3
   },
   "file_extension": ".py",
   "mimetype": "text/x-python",
   "name": "python",
   "nbconvert_exporter": "python",
   "pygments_lexer": "ipython3",
   "version": "3.12.6"
  }
 },
 "nbformat": 4,
 "nbformat_minor": 2
}
